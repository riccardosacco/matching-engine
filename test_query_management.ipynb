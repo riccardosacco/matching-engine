{
 "metadata": {
  "language_info": {
   "codemirror_mode": {
    "name": "ipython",
    "version": 3
   },
   "file_extension": ".py",
   "mimetype": "text/x-python",
   "name": "python",
   "nbconvert_exporter": "python",
   "pygments_lexer": "ipython3",
   "version": "3.7.7-final"
  },
  "orig_nbformat": 2,
  "kernelspec": {
   "name": "python3",
   "display_name": "Python 3"
  }
 },
 "nbformat": 4,
 "nbformat_minor": 2,
 "cells": [
  {
   "cell_type": "code",
   "execution_count": 1,
   "metadata": {},
   "outputs": [],
   "source": [
    "from query_management import item_programme\n",
    "from query_management import item_series"
   ]
  },
  {
   "cell_type": "code",
   "execution_count": 3,
   "metadata": {},
   "outputs": [
    {
     "output_type": "stream",
     "name": "stdout",
     "text": [
      "{}\n{\"query\": {\"nested\": {\"path\": \"providerData\", \"query\": {\"script_score\": {\"query\": {\"match\": {\"providerData.providerInfo.providerID\": \"DATA_TV\"}}, \"script\": {\"source\": \"1000\"}}}}}}\n{}\n{\"query\": {\"bool\": {\"should\": [{\"nested\": {\"path\": \"providerData.titles\", \"score_mode\": \"max\", \"query\": {\"dis_max\": {\"queries\": [{\"script_score\": {\"query\": {\"match\": {\"providerData.titles.title.keyword\": {\"query\": \"Spider-man\", \"fuzziness\": \"auto\"}}}, \"script\": {\"source\": \"50*(_score*1)/(((1-_score)*1)+1)\"}}}, {\"script_score\": {\"query\": {\"match_phrase\": {\"providerData.titles.title\": {\"query\": \"Spider-man\"}}}, \"script\": {\"source\": \"45*((_score))/(((1-_score/doc['providerData.titles.title.length'].value)*doc['providerData.titles.title.length'].value)+1)\"}}}, {\"script_score\": {\"query\": {\"match\": {\"providerData.titles.title.stopped\": {\"query\": \"Spider-man\", \"fuzziness\": \"auto\"}}}, \"script\": {\"source\": \"35*(_score*1)/(((1-_score)*1)+1)\"}}}, {\"script_score\": {\"query\": {\"match\": {\"providerData.titles.title\": {\"query\": \"Spider-man\", \"fuzziness\": \"auto\"}}}, \"script\": {\"source\": \"20*((_score))/(((1-_score/doc['providerData.titles.title.length'].value)*doc['providerData.titles.title.length'].value)+1)\"}}}]}}}}, {\"nested\": {\"path\": \"providerData.directors\", \"score_mode\": \"max\", \"query\": {\"dis_max\": {\"queries\": [{\"script_score\": {\"query\": {\"match\": {\"providerData.directors.director\": {\"query\": \"S. Raimi \", \"fuzziness\": \"auto\", \"operator\": \"AND\"}}}, \"script\": {\"source\": \"20*((_score))/(((1-_score/doc['providerData.directors.director.length'].value)*doc['providerData.directors.director.length'].value)+2)\"}}}, {\"script_score\": {\"query\": {\"match\": {\"providerData.directors.director\": {\"query\": \"Sam R. \", \"fuzziness\": \"auto\", \"operator\": \"AND\"}}}, \"script\": {\"source\": \"20*((_score))/(((1-_score/doc['providerData.directors.director.length'].value)*doc['providerData.directors.director.length'].value)+2)\"}}}, {\"script_score\": {\"query\": {\"match\": {\"providerData.directors.director\": {\"query\": \"Sam Raimi\", \"fuzziness\": \"auto\"}}}, \"script\": {\"source\": \"25*((_score))/(((1-_score/doc['providerData.directors.director.length'].value)*doc['providerData.directors.director.length'].value)+2)\"}}}]}}}}, {\"nested\": {\"path\": \"providerData.productionYears\", \"score_mode\": \"max\", \"query\": {\"dis_max\": {\"queries\": [{\"script_score\": {\"query\": {\"range\": {\"providerData.productionYears.productionYear\": {\"lte\": 2007, \"gte\": 2003}}}, \"script\": {\"source\": \"decayNumericLinear(params.origin, params.scale, params.offset, params.decay, doc['providerData.productionYears.productionYear'].value)*25\", \"params\": {\"origin\": 2005, \"scale\": 1, \"decay\": 0.6, \"offset\": 0}}}}, {\"script_score\": {\"query\": {\"simple_query_string\": {\"query\": \"2005~1\", \"fields\": [\"providerData.productionYears.productionYear.text\"]}}, \"script\": {\"source\": \"15*(_score*1)/(((1-_score)*1)+1)\"}}}]}}}}]}}}\n"
     ]
    }
   ],
   "source": [
    "metadata_programme = {\n",
    "  \"query_providerID\":\"DATA_TV\",\n",
    "  \"query_titles\":[\"Spider-man\"],\n",
    "  \"query_directors\":[\"Sam Raimi\"],\n",
    "  \"query_year\":\"2005\"\n",
    "}\n",
    "\n",
    "query_programme = item_programme.generate_query(metadata_programme)\n",
    "\n",
    "print(query_programme)"
   ]
  },
  {
   "cell_type": "code",
   "execution_count": 5,
   "metadata": {},
   "outputs": [
    {
     "output_type": "stream",
     "name": "stdout",
     "text": [
      "{}\n{\"query\": {\"nested\": {\"path\": \"providerData\", \"query\": {\"script_score\": {\"query\": {\"match\": {\"providerData.providerInfo.providerID\": \"DATATV_S01\"}}, \"script\": {\"source\": \"1000\"}}}}}}\n{}\n{\"query\": {\"bool\": {\"should\": [{\"nested\": {\"path\": \"providerData.titles\", \"score_mode\": \"max\", \"query\": {\"dis_max\": {\"queries\": [{\"script_score\": {\"query\": {\"match\": {\"providerData.titles.title.keyword\": {\"query\": \"Games of Thrones\", \"fuzziness\": \"auto\"}}}, \"script\": {\"source\": \"50*(_score*1)/(((1-_score)*1)+1)\"}}}, {\"script_score\": {\"query\": {\"match_phrase\": {\"providerData.titles.title\": {\"query\": \"Games of Thrones\"}}}, \"script\": {\"source\": \"45*((_score))/(((1-_score/doc['providerData.titles.title.length'].value)*doc['providerData.titles.title.length'].value)+3)\"}}}, {\"script_score\": {\"query\": {\"match\": {\"providerData.titles.title.stopped\": {\"query\": \"Games of Thrones\", \"fuzziness\": \"auto\"}}}, \"script\": {\"source\": \"35*(_score*1)/(((1-_score)*1)+1)\"}}}, {\"script_score\": {\"query\": {\"match\": {\"providerData.titles.title\": {\"query\": \"Games of Thrones\", \"fuzziness\": \"auto\"}}}, \"script\": {\"source\": \"20*((_score))/(((1-_score/doc['providerData.titles.title.length'].value)*doc['providerData.titles.title.length'].value)+3)\"}}}]}}}}]}}}\n"
     ]
    }
   ],
   "source": [
    "metadata_series = {\n",
    "    \"query_providerID\":\"DATATV_S01\",\n",
    "    \"query_titles\":[\"Games of Thrones\"]\n",
    "}\n",
    "\n",
    "query_series = item_series.generate_query(metadata_series)\n",
    "\n",
    "print(query_series)"
   ]
  },
  {
   "cell_type": "code",
   "execution_count": null,
   "metadata": {},
   "outputs": [],
   "source": []
  }
 ]
}