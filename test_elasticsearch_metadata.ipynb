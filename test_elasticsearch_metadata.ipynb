{
 "metadata": {
  "language_info": {
   "codemirror_mode": {
    "name": "ipython",
    "version": 3
   },
   "file_extension": ".py",
   "mimetype": "text/x-python",
   "name": "python",
   "nbconvert_exporter": "python",
   "pygments_lexer": "ipython3",
   "version": "3.7.4-final"
  },
  "orig_nbformat": 2,
  "kernelspec": {
   "name": "python3",
   "display_name": "Python 3"
  }
 },
 "nbformat": 4,
 "nbformat_minor": 2,
 "cells": [
  {
   "source": [
    "import json\n",
    "from matching_engine.elasticsearch_metadata import ElasticSearch\n",
    "\n",
    "db = ElasticSearch(\n",
    "    \"https://search-matching-engine-uv2ckzsmrpytmltjko7x5jf4ra.eu-west-1.es.amazonaws.com\", index=\"programme_index\")"
   ],
   "cell_type": "code",
   "metadata": {},
   "execution_count": 1,
   "outputs": []
  },
  {
   "cell_type": "code",
   "execution_count": 2,
   "metadata": {},
   "outputs": [],
   "source": [
    "doc_id = \"3\"\n",
    "metadata = {\n",
    "    'providerInfo': {\n",
    "        'providerID': 'DATATV_02'\n",
    "    }, \n",
    "    'titles': [{'type':'ENRICH','title': 'Mosters & Co.'}],\n",
    "    'directors': [{'type':'ENRICH','director': 'Pete Docter 2'}]\n",
    "}"
   ]
  },
  {
   "cell_type": "code",
   "execution_count": 3,
   "metadata": {},
   "outputs": [
    {
     "output_type": "stream",
     "name": "stdout",
     "text": [
      "{'providerInfo': {'providerID': 'DATATV_02', 'providerName': 'DataTV'}, 'UUID': 'd5e6af21-bc97-414f-aaeb-44aea8b2ee80', 'titles': [{'type': 'SCHED', 'title': 'Mosters & Co.'}, {'type': 'ENRICH', 'title': 'Mosters & Co.'}], 'directors': [{'director': 'Pete Docter'}, {'type': 'ENRICH', 'director': 'Pete Docter 2'}], 'productionYears': [{'productionYear': 2001}]}\nTrue\n"
     ]
    }
   ],
   "source": [
    "document = db.update_metadata(doc_id, metadata)\n",
    "print(document)"
   ]
  },
  {
   "cell_type": "code",
   "execution_count": 4,
   "metadata": {},
   "outputs": [
    {
     "output_type": "execute_result",
     "data": {
      "text/plain": [
       "{'masterUUID': 'd5e6af21-bc97-414f-aaeb-44aea8b2ee80',\n",
       " 'providerData': [{'providerInfo': {'providerID': 'DATATV_02',\n",
       "    'providerName': 'DataTV'},\n",
       "   'UUID': 'd5e6af21-bc97-414f-aaeb-44aea8b2ee80',\n",
       "   'titles': [{'type': 'SCHED', 'title': 'Mosters & Co.'},\n",
       "    {'type': 'ENRICH', 'title': 'Mosters & Co.'}],\n",
       "   'directors': [{'director': 'Pete Docter'}],\n",
       "   'productionYears': [{'productionYear': 2001}]},\n",
       "  {'providerInfo': {'providerName': 'Mediaset', 'providerID': 'MS_02'},\n",
       "   'UUID': 'd5e6af21-bc97-414f-aaeb-44aea8b2ee80',\n",
       "   'titles': [{'type': 'SCHED', 'title': 'Mostri'}],\n",
       "   'directors': [{'director': 'Pete Docter'}],\n",
       "   'productionYears': [{'productionYear': 2001}]}]}"
      ]
     },
     "metadata": {},
     "execution_count": 4
    }
   ],
   "source": [
    "db.get_document(doc_id)"
   ]
  },
  {
   "cell_type": "code",
   "execution_count": null,
   "metadata": {},
   "outputs": [],
   "source": []
  }
 ]
}