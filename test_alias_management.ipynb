{
 "metadata": {
  "language_info": {
   "codemirror_mode": {
    "name": "ipython",
    "version": 3
   },
   "file_extension": ".py",
   "mimetype": "text/x-python",
   "name": "python",
   "nbconvert_exporter": "python",
   "pygments_lexer": "ipython3",
   "version": "3.7.7-final"
  },
  "orig_nbformat": 2,
  "kernelspec": {
   "name": "python3",
   "display_name": "Python 3"
  }
 },
 "nbformat": 4,
 "nbformat_minor": 2,
 "cells": [
  {
   "cell_type": "code",
   "execution_count": 5,
   "metadata": {},
   "outputs": [],
   "source": [
    "import json\n",
    "from alias_management import AliasManagement\n",
    "\n",
    "alias = AliasManagement(\n",
    "    \"https://search-matching-engine-uv2ckzsmrpytmltjko7x5jf4ra.eu-west-1.es.amazonaws.com\", index=\"programme_index\")\n",
    "\n",
    "masterUUID = \"1a7fbdcb-9b25-435d-928f-310214c355d3\"\n",
    "aliasUUID = \"f7bba461-dcd3-4d86-8d0a-3fc4666d5dc4\""
   ]
  },
  {
   "source": [
    "# Print masterUUID & aliasUUID\n",
    "print(\"masterUUID\")\n",
    "print(json.dumps(alias.get_document_by_UUID(masterUUID), indent=2))\n",
    "print(\"\\naliasUUID\")\n",
    "print(json.dumps(alias.get_document_by_UUID(aliasUUID), indent=2))"
   ],
   "cell_type": "code",
   "metadata": {},
   "execution_count": 10,
   "outputs": [
    {
     "output_type": "stream",
     "name": "stdout",
     "text": [
      "masterUUID\n",
      "{\n",
      "  \"providerData\": [\n",
      "    {\n",
      "      \"productionYears\": [\n",
      "        {\n",
      "          \"productionYear\": 2016\n",
      "        }\n",
      "      ],\n",
      "      \"directors\": [\n",
      "        {\n",
      "          \"director\": \"Tim Miller\"\n",
      "        }\n",
      "      ],\n",
      "      \"titles\": [\n",
      "        {\n",
      "          \"type\": \"ENRICH\",\n",
      "          \"title\": \"Deadpool\"\n",
      "        },\n",
      "        {\n",
      "          \"type\": \"SCHED\",\n",
      "          \"title\": \"Deathpool\"\n",
      "        }\n",
      "      ],\n",
      "      \"UUID\": \"1a7fbdcb-9b25-435d-928f-310214c355d3\",\n",
      "      \"providerInfo\": {\n",
      "        \"providerID\": \"DATATV_03\",\n",
      "        \"providerName\": \"DataTV\"\n",
      "      }\n",
      "    },\n",
      "    {\n",
      "      \"productionYears\": [\n",
      "        {\n",
      "          \"productionYear\": 2016\n",
      "        }\n",
      "      ],\n",
      "      \"directors\": [\n",
      "        {\n",
      "          \"director\": \"Tim Miller\"\n",
      "        }\n",
      "      ],\n",
      "      \"titles\": [\n",
      "        {\n",
      "          \"type\": \"SCHED\",\n",
      "          \"title\": \"Dead\"\n",
      "        }\n",
      "      ],\n",
      "      \"UUID\": \"1a7fbdcb-9b25-435d-928f-310214c355d3\",\n",
      "      \"providerInfo\": {\n",
      "        \"providerID\": \"MS_03\",\n",
      "        \"providerName\": \"Mediaset\"\n",
      "      }\n",
      "    }\n",
      "  ],\n",
      "  \"masterUUID\": \"1a7fbdcb-9b25-435d-928f-310214c355d3\"\n",
      "}\n",
      "\n",
      "aliasUUID\n",
      "{\n",
      "  \"providerData\": [\n",
      "    {\n",
      "      \"productionYears\": [\n",
      "        {\n",
      "          \"productionYear\": 2018\n",
      "        }\n",
      "      ],\n",
      "      \"directors\": [\n",
      "        {\n",
      "          \"director\": \"David Leich\"\n",
      "        }\n",
      "      ],\n",
      "      \"titles\": [\n",
      "        {\n",
      "          \"type\": \"SCHED\",\n",
      "          \"title\": \"Deadpool 2\"\n",
      "        }\n",
      "      ],\n",
      "      \"UUID\": \"f7bba461-dcd3-4d86-8d0a-3fc4666d5dc4\",\n",
      "      \"providerInfo\": {\n",
      "        \"providerID\": \"DATATV_04\",\n",
      "        \"providerName\": \"DataTV\"\n",
      "      }\n",
      "    }\n",
      "  ],\n",
      "  \"masterUUID\": \"f7bba461-dcd3-4d86-8d0a-3fc4666d5dc4\"\n",
      "}\n"
     ]
    }
   ]
  },
  {
   "source": [
    "# Create alias\n",
    "alias.create_alias(masterUUID, aliasUUID)"
   ],
   "cell_type": "code",
   "metadata": {},
   "execution_count": 7,
   "outputs": [
    {
     "output_type": "execute_result",
     "data": {
      "text/plain": [
       "True"
      ]
     },
     "metadata": {},
     "execution_count": 7
    }
   ]
  },
  {
   "cell_type": "code",
   "execution_count": 9,
   "metadata": {},
   "outputs": [
    {
     "output_type": "execute_result",
     "data": {
      "text/plain": [
       "True"
      ]
     },
     "metadata": {},
     "execution_count": 9
    }
   ],
   "source": [
    "# Unalias\n",
    "alias.unalias(masterUUID, aliasUUID)"
   ]
  },
  {
   "cell_type": "code",
   "execution_count": null,
   "metadata": {},
   "outputs": [],
   "source": []
  }
 ]
}