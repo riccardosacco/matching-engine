{
 "metadata": {
  "language_info": {
   "codemirror_mode": {
    "name": "ipython",
    "version": 3
   },
   "file_extension": ".py",
   "mimetype": "text/x-python",
   "name": "python",
   "nbconvert_exporter": "python",
   "pygments_lexer": "ipython3",
   "version": "3.8.6-final"
  },
  "orig_nbformat": 2,
  "kernelspec": {
   "name": "python3",
   "display_name": "Python 3"
  }
 },
 "nbformat": 4,
 "nbformat_minor": 2,
 "cells": [
  {
   "cell_type": "code",
   "execution_count": 1,
   "metadata": {},
   "outputs": [],
   "source": [
    "import json\n",
    "from alias_management import AliasManagement\n",
    "\n",
    "alias = AliasManagement(\n",
    "    \"https://search-matching-engine-uv2ckzsmrpytmltjko7x5jf4ra.eu-west-1.es.amazonaws.com\", index=\"programme_index\")\n",
    "\n",
    "masterUUID = \"93f660e9-1d6e-4d4c-922b-1a90fc1b6718\"\n",
    "aliasUUID = \"b7e47a70-1226-48e3-ac04-3a1d91ec6ad8\""
   ]
  },
  {
   "source": [
    "# Print masterUUID & aliasUUID\n",
    "print(\"masterUUID\")\n",
    "print(json.dumps(alias.get_document_by_UUID(masterUUID), indent=2))\n",
    "print(\"\\naliasUUID\")\n",
    "print(json.dumps(alias.get_document_by_UUID(aliasUUID), indent=2))"
   ],
   "cell_type": "code",
   "metadata": {},
   "execution_count": 2,
   "outputs": [
    {
     "output_type": "stream",
     "name": "stdout",
     "text": [
      "masterUUID\n",
      "{\n",
      "  \"masterUUID\": \"93f660e9-1d6e-4d4c-922b-1a90fc1b6718\",\n",
      "  \"providerData\": [\n",
      "    {\n",
      "      \"providerInfo\": {\n",
      "        \"providerName\": \"DataTV\",\n",
      "        \"providerID\": \"DATATV_40\"\n",
      "      },\n",
      "      \"UUID\": \"93f660e9-1d6e-4d4c-922b-1a90fc1b6718\",\n",
      "      \"titles\": [\n",
      "        {\n",
      "          \"type\": \"SCHED\",\n",
      "          \"title\": \"Zoolander\"\n",
      "        }\n",
      "      ],\n",
      "      \"productionYears\": [\n",
      "        {\n",
      "          \"productionYear\": 2001\n",
      "        }\n",
      "      ],\n",
      "      \"directors\": [\n",
      "        {\n",
      "          \"director\": \"Ben Stiller\"\n",
      "        }\n",
      "      ]\n",
      "    },\n",
      "    {\n",
      "      \"providerInfo\": {\n",
      "        \"providerName\": \"Mediaset\",\n",
      "        \"providerID\": \"MS_40\"\n",
      "      },\n",
      "      \"UUID\": \"93f660e9-1d6e-4d4c-922b-1a90fc1b6718\",\n",
      "      \"titles\": [\n",
      "        {\n",
      "          \"type\": \"ENRICH\",\n",
      "          \"title\": \"Zoolander\"\n",
      "        }\n",
      "      ],\n",
      "      \"productionYears\": [\n",
      "        {\n",
      "          \"productionYear\": 2001\n",
      "        }\n",
      "      ],\n",
      "      \"directors\": [\n",
      "        {\n",
      "          \"director\": \"Ben Edward Meara Stiller\"\n",
      "        }\n",
      "      ]\n",
      "    }\n",
      "  ]\n",
      "}\n",
      "\n",
      "aliasUUID\n",
      "{\n",
      "  \"masterUUID\": \"b7e47a70-1226-48e3-ac04-3a1d91ec6ad8\",\n",
      "  \"providerData\": [\n",
      "    {\n",
      "      \"providerInfo\": {\n",
      "        \"providerName\": \"DataTV\",\n",
      "        \"providerID\": \"DATATV_41\"\n",
      "      },\n",
      "      \"UUID\": \"b7e47a70-1226-48e3-ac04-3a1d91ec6ad8\",\n",
      "      \"titles\": [\n",
      "        {\n",
      "          \"type\": \"SCHED\",\n",
      "          \"title\": \"Zoolander 2\"\n",
      "        }\n",
      "      ],\n",
      "      \"productionYears\": [\n",
      "        {\n",
      "          \"productionYear\": 2016\n",
      "        }\n",
      "      ],\n",
      "      \"directors\": [\n",
      "        {\n",
      "          \"director\": \"Ben Stiller\"\n",
      "        }\n",
      "      ]\n",
      "    }\n",
      "  ]\n",
      "}\n"
     ]
    }
   ]
  },
  {
   "source": [
    "# Create alias\n",
    "alias.create_alias(masterUUID, aliasUUID)"
   ],
   "cell_type": "code",
   "metadata": {},
   "execution_count": 3,
   "outputs": [
    {
     "output_type": "execute_result",
     "data": {
      "text/plain": [
       "True"
      ]
     },
     "metadata": {},
     "execution_count": 3
    }
   ]
  },
  {
   "cell_type": "code",
   "execution_count": 5,
   "metadata": {},
   "outputs": [
    {
     "output_type": "execute_result",
     "data": {
      "text/plain": [
       "True"
      ]
     },
     "metadata": {},
     "execution_count": 5
    }
   ],
   "source": [
    "# Unalias\n",
    "alias.unalias(masterUUID, aliasUUID)"
   ]
  },
  {
   "cell_type": "code",
   "execution_count": null,
   "metadata": {},
   "outputs": [],
   "source": []
  }
 ]
}